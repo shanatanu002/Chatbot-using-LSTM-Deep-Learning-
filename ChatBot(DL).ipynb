{
  "cells": [
    {
      "cell_type": "code",
      "execution_count": null,
      "metadata": {
        "colab": {
          "base_uri": "https://localhost:8080/"
        },
        "id": "BqMd6Q_Bo2zT",
        "outputId": "8ca1a27b-47c9-4690-868d-a262dd898da4"
      },
      "outputs": [
        {
          "name": "stdout",
          "output_type": "stream",
          "text": [
            "Requirement already satisfied: kaggle in /usr/local/lib/python3.10/dist-packages (1.5.16)\n",
            "Requirement already satisfied: six>=1.10 in /usr/local/lib/python3.10/dist-packages (from kaggle) (1.16.0)\n",
            "Requirement already satisfied: certifi in /usr/local/lib/python3.10/dist-packages (from kaggle) (2023.11.17)\n",
            "Requirement already satisfied: python-dateutil in /usr/local/lib/python3.10/dist-packages (from kaggle) (2.8.2)\n",
            "Requirement already satisfied: requests in /usr/local/lib/python3.10/dist-packages (from kaggle) (2.31.0)\n",
            "Requirement already satisfied: tqdm in /usr/local/lib/python3.10/dist-packages (from kaggle) (4.66.1)\n",
            "Requirement already satisfied: python-slugify in /usr/local/lib/python3.10/dist-packages (from kaggle) (8.0.1)\n",
            "Requirement already satisfied: urllib3 in /usr/local/lib/python3.10/dist-packages (from kaggle) (2.0.7)\n",
            "Requirement already satisfied: bleach in /usr/local/lib/python3.10/dist-packages (from kaggle) (6.1.0)\n",
            "Requirement already satisfied: webencodings in /usr/local/lib/python3.10/dist-packages (from bleach->kaggle) (0.5.1)\n",
            "Requirement already satisfied: text-unidecode>=1.3 in /usr/local/lib/python3.10/dist-packages (from python-slugify->kaggle) (1.3)\n",
            "Requirement already satisfied: charset-normalizer<4,>=2 in /usr/local/lib/python3.10/dist-packages (from requests->kaggle) (3.3.2)\n",
            "Requirement already satisfied: idna<4,>=2.5 in /usr/local/lib/python3.10/dist-packages (from requests->kaggle) (3.6)\n"
          ]
        }
      ],
      "source": [
        "# Install the Kaggle package using pip\n",
        "!pip install kaggle"
      ]
    },
    {
      "cell_type": "code",
      "execution_count": null,
      "metadata": {
        "id": "Odx7sc6UmKYP"
      },
      "outputs": [],
      "source": [
        "# Import necessary libraries and modules\n",
        "\n",
        "# NumPy for numerical operations\n",
        "from numpy import *\n",
        "\n",
        "# TensorFlow for deep learning\n",
        "from tensorflow import *\n",
        "\n",
        "# Pickle for handling data serialization\n",
        "from pickle import *\n",
        "\n",
        "# Keras for building and training neural networks\n",
        "from keras import layers, activations, models, preprocessing, utils\n",
        "\n",
        "# Gensim for Word2Vec model\n",
        "from gensim.models import Word2Vec"
      ]
    },
    {
      "cell_type": "code",
      "execution_count": null,
      "metadata": {
        "colab": {
          "background_save": true,
          "base_uri": "https://localhost:8080/",
          "height": 38
        },
        "id": "9EXwodNMo51d",
        "outputId": "ba055a44-1118-4560-f49e-adc1ce2fcb58"
      },
      "outputs": [
        {
          "data": {
            "text/html": [
              "\n",
              "     <input type=\"file\" id=\"files-3f59f6e1-067a-4513-8e9b-5e433f564c0e\" name=\"files[]\" multiple disabled\n",
              "        style=\"border:none\" />\n",
              "     <output id=\"result-3f59f6e1-067a-4513-8e9b-5e433f564c0e\">\n",
              "      Upload widget is only available when the cell has been executed in the\n",
              "      current browser session. Please rerun this cell to enable.\n",
              "      </output>\n",
              "      <script>// Copyright 2017 Google LLC\n",
              "//\n",
              "// Licensed under the Apache License, Version 2.0 (the \"License\");\n",
              "// you may not use this file except in compliance with the License.\n",
              "// You may obtain a copy of the License at\n",
              "//\n",
              "//      http://www.apache.org/licenses/LICENSE-2.0\n",
              "//\n",
              "// Unless required by applicable law or agreed to in writing, software\n",
              "// distributed under the License is distributed on an \"AS IS\" BASIS,\n",
              "// WITHOUT WARRANTIES OR CONDITIONS OF ANY KIND, either express or implied.\n",
              "// See the License for the specific language governing permissions and\n",
              "// limitations under the License.\n",
              "\n",
              "/**\n",
              " * @fileoverview Helpers for google.colab Python module.\n",
              " */\n",
              "(function(scope) {\n",
              "function span(text, styleAttributes = {}) {\n",
              "  const element = document.createElement('span');\n",
              "  element.textContent = text;\n",
              "  for (const key of Object.keys(styleAttributes)) {\n",
              "    element.style[key] = styleAttributes[key];\n",
              "  }\n",
              "  return element;\n",
              "}\n",
              "\n",
              "// Max number of bytes which will be uploaded at a time.\n",
              "const MAX_PAYLOAD_SIZE = 100 * 1024;\n",
              "\n",
              "function _uploadFiles(inputId, outputId) {\n",
              "  const steps = uploadFilesStep(inputId, outputId);\n",
              "  const outputElement = document.getElementById(outputId);\n",
              "  // Cache steps on the outputElement to make it available for the next call\n",
              "  // to uploadFilesContinue from Python.\n",
              "  outputElement.steps = steps;\n",
              "\n",
              "  return _uploadFilesContinue(outputId);\n",
              "}\n",
              "\n",
              "// This is roughly an async generator (not supported in the browser yet),\n",
              "// where there are multiple asynchronous steps and the Python side is going\n",
              "// to poll for completion of each step.\n",
              "// This uses a Promise to block the python side on completion of each step,\n",
              "// then passes the result of the previous step as the input to the next step.\n",
              "function _uploadFilesContinue(outputId) {\n",
              "  const outputElement = document.getElementById(outputId);\n",
              "  const steps = outputElement.steps;\n",
              "\n",
              "  const next = steps.next(outputElement.lastPromiseValue);\n",
              "  return Promise.resolve(next.value.promise).then((value) => {\n",
              "    // Cache the last promise value to make it available to the next\n",
              "    // step of the generator.\n",
              "    outputElement.lastPromiseValue = value;\n",
              "    return next.value.response;\n",
              "  });\n",
              "}\n",
              "\n",
              "/**\n",
              " * Generator function which is called between each async step of the upload\n",
              " * process.\n",
              " * @param {string} inputId Element ID of the input file picker element.\n",
              " * @param {string} outputId Element ID of the output display.\n",
              " * @return {!Iterable<!Object>} Iterable of next steps.\n",
              " */\n",
              "function* uploadFilesStep(inputId, outputId) {\n",
              "  const inputElement = document.getElementById(inputId);\n",
              "  inputElement.disabled = false;\n",
              "\n",
              "  const outputElement = document.getElementById(outputId);\n",
              "  outputElement.innerHTML = '';\n",
              "\n",
              "  const pickedPromise = new Promise((resolve) => {\n",
              "    inputElement.addEventListener('change', (e) => {\n",
              "      resolve(e.target.files);\n",
              "    });\n",
              "  });\n",
              "\n",
              "  const cancel = document.createElement('button');\n",
              "  inputElement.parentElement.appendChild(cancel);\n",
              "  cancel.textContent = 'Cancel upload';\n",
              "  const cancelPromise = new Promise((resolve) => {\n",
              "    cancel.onclick = () => {\n",
              "      resolve(null);\n",
              "    };\n",
              "  });\n",
              "\n",
              "  // Wait for the user to pick the files.\n",
              "  const files = yield {\n",
              "    promise: Promise.race([pickedPromise, cancelPromise]),\n",
              "    response: {\n",
              "      action: 'starting',\n",
              "    }\n",
              "  };\n",
              "\n",
              "  cancel.remove();\n",
              "\n",
              "  // Disable the input element since further picks are not allowed.\n",
              "  inputElement.disabled = true;\n",
              "\n",
              "  if (!files) {\n",
              "    return {\n",
              "      response: {\n",
              "        action: 'complete',\n",
              "      }\n",
              "    };\n",
              "  }\n",
              "\n",
              "  for (const file of files) {\n",
              "    const li = document.createElement('li');\n",
              "    li.append(span(file.name, {fontWeight: 'bold'}));\n",
              "    li.append(span(\n",
              "        `(${file.type || 'n/a'}) - ${file.size} bytes, ` +\n",
              "        `last modified: ${\n",
              "            file.lastModifiedDate ? file.lastModifiedDate.toLocaleDateString() :\n",
              "                                    'n/a'} - `));\n",
              "    const percent = span('0% done');\n",
              "    li.appendChild(percent);\n",
              "\n",
              "    outputElement.appendChild(li);\n",
              "\n",
              "    const fileDataPromise = new Promise((resolve) => {\n",
              "      const reader = new FileReader();\n",
              "      reader.onload = (e) => {\n",
              "        resolve(e.target.result);\n",
              "      };\n",
              "      reader.readAsArrayBuffer(file);\n",
              "    });\n",
              "    // Wait for the data to be ready.\n",
              "    let fileData = yield {\n",
              "      promise: fileDataPromise,\n",
              "      response: {\n",
              "        action: 'continue',\n",
              "      }\n",
              "    };\n",
              "\n",
              "    // Use a chunked sending to avoid message size limits. See b/62115660.\n",
              "    let position = 0;\n",
              "    do {\n",
              "      const length = Math.min(fileData.byteLength - position, MAX_PAYLOAD_SIZE);\n",
              "      const chunk = new Uint8Array(fileData, position, length);\n",
              "      position += length;\n",
              "\n",
              "      const base64 = btoa(String.fromCharCode.apply(null, chunk));\n",
              "      yield {\n",
              "        response: {\n",
              "          action: 'append',\n",
              "          file: file.name,\n",
              "          data: base64,\n",
              "        },\n",
              "      };\n",
              "\n",
              "      let percentDone = fileData.byteLength === 0 ?\n",
              "          100 :\n",
              "          Math.round((position / fileData.byteLength) * 100);\n",
              "      percent.textContent = `${percentDone}% done`;\n",
              "\n",
              "    } while (position < fileData.byteLength);\n",
              "  }\n",
              "\n",
              "  // All done.\n",
              "  yield {\n",
              "    response: {\n",
              "      action: 'complete',\n",
              "    }\n",
              "  };\n",
              "}\n",
              "\n",
              "scope.google = scope.google || {};\n",
              "scope.google.colab = scope.google.colab || {};\n",
              "scope.google.colab._files = {\n",
              "  _uploadFiles,\n",
              "  _uploadFilesContinue,\n",
              "};\n",
              "})(self);\n",
              "</script> "
            ],
            "text/plain": [
              "<IPython.core.display.HTML object>"
            ]
          },
          "metadata": {},
          "output_type": "display_data"
        },
        {
          "ename": "TypeError",
          "evalue": "ignored",
          "output_type": "error",
          "traceback": [
            "\u001b[0;31m---------------------------------------------------------------------------\u001b[0m",
            "\u001b[0;31mTypeError\u001b[0m                                 Traceback (most recent call last)",
            "\u001b[0;32m<ipython-input-40-c0350c4611bc>\u001b[0m in \u001b[0;36m<cell line: 5>\u001b[0;34m()\u001b[0m\n\u001b[1;32m      3\u001b[0m \u001b[0;34m\u001b[0m\u001b[0m\n\u001b[1;32m      4\u001b[0m \u001b[0;31m# Use the files.upload() function to prompt the user to upload files\u001b[0m\u001b[0;34m\u001b[0m\u001b[0;34m\u001b[0m\u001b[0m\n\u001b[0;32m----> 5\u001b[0;31m \u001b[0mfiles\u001b[0m\u001b[0;34m.\u001b[0m\u001b[0mupload\u001b[0m\u001b[0;34m(\u001b[0m\u001b[0;34m)\u001b[0m\u001b[0;34m\u001b[0m\u001b[0;34m\u001b[0m\u001b[0m\n\u001b[0m\u001b[1;32m      6\u001b[0m \u001b[0;31m#upload your api of Kaggle .json file\u001b[0m\u001b[0;34m\u001b[0m\u001b[0;34m\u001b[0m\u001b[0m\n",
            "\u001b[0;32m/usr/local/lib/python3.10/dist-packages/google/colab/files.py\u001b[0m in \u001b[0;36mupload\u001b[0;34m()\u001b[0m\n\u001b[1;32m     67\u001b[0m   \"\"\"\n\u001b[1;32m     68\u001b[0m \u001b[0;34m\u001b[0m\u001b[0m\n\u001b[0;32m---> 69\u001b[0;31m   \u001b[0muploaded_files\u001b[0m \u001b[0;34m=\u001b[0m \u001b[0m_upload_files\u001b[0m\u001b[0;34m(\u001b[0m\u001b[0mmultiple\u001b[0m\u001b[0;34m=\u001b[0m\u001b[0;32mTrue\u001b[0m\u001b[0;34m)\u001b[0m\u001b[0;34m\u001b[0m\u001b[0;34m\u001b[0m\u001b[0m\n\u001b[0m\u001b[1;32m     70\u001b[0m   \u001b[0;31m# Mapping from original filename to filename as saved locally.\u001b[0m\u001b[0;34m\u001b[0m\u001b[0;34m\u001b[0m\u001b[0m\n\u001b[1;32m     71\u001b[0m   \u001b[0mlocal_filenames\u001b[0m \u001b[0;34m=\u001b[0m \u001b[0mdict\u001b[0m\u001b[0;34m(\u001b[0m\u001b[0;34m)\u001b[0m\u001b[0;34m\u001b[0m\u001b[0;34m\u001b[0m\u001b[0m\n",
            "\u001b[0;32m/usr/local/lib/python3.10/dist-packages/google/colab/files.py\u001b[0m in \u001b[0;36m_upload_files\u001b[0;34m(multiple)\u001b[0m\n\u001b[1;32m    161\u001b[0m   \u001b[0mfiles\u001b[0m \u001b[0;34m=\u001b[0m \u001b[0m_collections\u001b[0m\u001b[0;34m.\u001b[0m\u001b[0mdefaultdict\u001b[0m\u001b[0;34m(\u001b[0m\u001b[0mbytes\u001b[0m\u001b[0;34m)\u001b[0m\u001b[0;34m\u001b[0m\u001b[0;34m\u001b[0m\u001b[0m\n\u001b[1;32m    162\u001b[0m \u001b[0;34m\u001b[0m\u001b[0m\n\u001b[0;32m--> 163\u001b[0;31m   \u001b[0;32mwhile\u001b[0m \u001b[0mresult\u001b[0m\u001b[0;34m[\u001b[0m\u001b[0;34m'action'\u001b[0m\u001b[0;34m]\u001b[0m \u001b[0;34m!=\u001b[0m \u001b[0;34m'complete'\u001b[0m\u001b[0;34m:\u001b[0m\u001b[0;34m\u001b[0m\u001b[0;34m\u001b[0m\u001b[0m\n\u001b[0m\u001b[1;32m    164\u001b[0m     result = _output.eval_js(\n\u001b[1;32m    165\u001b[0m         'google.colab._files._uploadFilesContinue(\"{output_id}\")'.format(\n",
            "\u001b[0;31mTypeError\u001b[0m: 'NoneType' object is not subscriptable"
          ]
        }
      ],
      "source": [
        "# Import the 'files' module from the google.colab library\n",
        "from google.colab import files\n",
        "\n",
        "# Use the files.upload() function to prompt the user to upload files\n",
        "files.upload()\n",
        "#upload your api of Kaggle .json file"
      ]
    },
    {
      "cell_type": "code",
      "execution_count": null,
      "metadata": {
        "colab": {
          "background_save": true
        },
        "id": "qFFsWCB5pPwY"
      },
      "outputs": [],
      "source": [
        "# Create the .kaggle directory in the user's home directory if it doesn't exist\n",
        "!mkdir -p ~/.kaggle"
      ]
    },
    {
      "cell_type": "code",
      "execution_count": null,
      "metadata": {
        "colab": {
          "background_save": true
        },
        "id": "LLQFGYbmpUqL"
      },
      "outputs": [],
      "source": [
        "# Copy the Kaggle API credentials file (kaggle.json) to the .kaggle directory\n",
        "!cp kaggle.json ~/.kaggle/\n",
        "# Set the correct permissions on the Kaggle API credentials file\n",
        "!chmod 600 /root/.kaggle/kaggle.json"
      ]
    },
    {
      "cell_type": "code",
      "execution_count": null,
      "metadata": {
        "colab": {
          "background_save": true
        },
        "id": "WVCta673pciY"
      },
      "outputs": [],
      "source": [
        "# Download the Kaggle dataset named \"chatterbotenglish\" using the Kaggle CLI\n",
        "!kaggle datasets download -d kausr25/chatterbotenglish"
      ]
    },
    {
      "cell_type": "code",
      "execution_count": null,
      "metadata": {
        "colab": {
          "background_save": true
        },
        "id": "IUqOxtCJptr7"
      },
      "outputs": [],
      "source": [
        "# Create a directory named \"data\"\n",
        "!mkdir data\n",
        "\n",
        "# Note: The mkdir command is used to create a new directory. In this case, it's named \"data\" to potentially store the unzipped contents.\n",
        "\n",
        "# Unzip the contents of the \"chatterbotenglish.zip\" file into the \"data\" directory\n",
        "!unzip /content/chatterbotenglish.zip -d data\n",
        "\n",
        "# Note: The unzip command is used to extract the contents of a zip file. The \"-d\" flag specifies the target directory (\"data\" in this case),\n",
        "# and \"/content/chatterbotenglish.zip\" is the path to the zip file. This assumes the zip file is located at that path.\n",
        "# The contents of the zip file will be extracted into the specified directory.\n",
        "\n",
        "#choose y[es] for questions\n"
      ]
    },
    {
      "cell_type": "code",
      "execution_count": null,
      "metadata": {
        "colab": {
          "background_save": true
        },
        "id": "bR3ITDhICfO8"
      },
      "outputs": [],
      "source": [
        "# Import the 'os' module for interacting with the operating system\n",
        "import os\n",
        "\n",
        "# Note: The 'os' module provides a way to interact with the operating system, allowing tasks such as file operations, directory manipulation, etc.\n",
        "\n",
        "# Import the 'yaml' module for working with YAML files\n",
        "import yaml\n",
        "\n",
        "# Note: The 'yaml' module is used for reading and writing YAML (YAML Ain't Markup Language) files.\n",
        "# YAML is often used for configuration files due to its human-readable and concise syntax.\n"
      ]
    },
    {
      "cell_type": "code",
      "execution_count": null,
      "metadata": {
        "colab": {
          "background_save": true
        },
        "id": "8QPBsMg-qLjJ"
      },
      "outputs": [],
      "source": [
        "# Specify the directory path\n",
        "path = '/content/data'\n",
        "\n",
        "# Note: The 'path' variable holds the path to the directory where files will be listed.\n",
        "# '/content/data' is an example path; you can replace it with the actual path you want to work with.\n",
        "\n",
        "# Use os.listdir() to get a list of files in the specified directory\n",
        "files = os.listdir(path + os.sep)\n"
      ]
    },
    {
      "cell_type": "code",
      "execution_count": null,
      "metadata": {
        "colab": {
          "background_save": true
        },
        "id": "QQg_sa2Kqp5o"
      },
      "outputs": [],
      "source": [
        "# Initialize empty lists for questions and answers\n",
        "que = list()\n",
        "ans = list()\n",
        "\n",
        "# Loop through each file in the specified directory\n",
        "for filepath in files:\n",
        "    # Open the file in binary mode and load its content using yaml.safe_load\n",
        "    f = open(path + os.sep + filepath, 'rb')\n",
        "    fl = yaml.safe_load(f)\n",
        "\n",
        "    # Extract conversations (Q&A pairs) from the loaded YAML file\n",
        "    qna = fl['conversations']\n",
        "\n",
        "    # Process each conversation\n",
        "    for j in qna:\n",
        "        if len(j) > 2:\n",
        "            # If the conversation has more than two elements, consider the first as a question\n",
        "            # and concatenate the rest as the answer\n",
        "            que.append(j[0])\n",
        "            remaining = j[1:]\n",
        "            a = ''\n",
        "            for k in remaining:\n",
        "                a += ' ' + k\n",
        "            ans.append(a)\n",
        "        elif len(j) > 1:\n",
        "            # If the conversation has exactly two elements, consider them as a question and an answer\n",
        "            que.append(j[0])\n",
        "            ans.append(j[1])\n",
        "\n",
        "# Initialize an empty list for checking the format of answers\n",
        "format_check = list()\n",
        "\n",
        "# Check the format of answers and populate the format_check list\n",
        "for i in range(len(ans)):\n",
        "    if type(ans[i]) == str:\n",
        "        format_check.append(ans[i])\n",
        "    else:\n",
        "        que.pop(i)  # Remove the corresponding question if the answer is not a string\n",
        "\n",
        "# Reinitialize the ans list and prepend and append start and end tokens to each answer\n",
        "ans = list()\n",
        "start_token = '<start>'\n",
        "end_token = '<end>'\n",
        "for i in range(len(format_check)):\n",
        "    ans.append(' ' + format_check[i] + ' ')\n",
        "\n",
        "# Prepend and append start and end tokens to each answer\n",
        "ans = [start_token + x + end_token for x in ans]\n",
        "\n",
        "# Initialize a text tokenizer and fit it on both questions and answers\n",
        "tokenizer = preprocessing.text.Tokenizer()\n",
        "tokenizer.fit_on_texts(que + ans)\n",
        "\n",
        "# Determine the vocabulary size\n",
        "VOCAB_SIZE = len(tokenizer.word_index) + 1\n",
        "\n",
        "# Note: The above code processes a set of files containing conversations (Q&A pairs) in YAML format.\n",
        "# It extracts questions and answers, formats the answers, and then tokenizes both questions and answers\n",
        "# using the Keras Tokenizer. The resulting vocabulary size is determined.\n"
      ]
    },
    {
      "cell_type": "code",
      "execution_count": null,
      "metadata": {
        "colab": {
          "background_save": true
        },
        "id": "VIuVzpFZEk7q"
      },
      "outputs": [],
      "source": []
    },
    {
      "cell_type": "code",
      "execution_count": null,
      "metadata": {
        "colab": {
          "background_save": true
        },
        "id": "32hpHtzkD8ig"
      },
      "outputs": [],
      "source": [
        "# Import the 're' module for regular expressions\n",
        "import re\n",
        "\n",
        "# Initialize an empty list to store the knowledge extracted from the tokenizer's word index\n",
        "knowledge = []\n",
        "\n",
        "# Iterate through each word in the tokenizer's word index and add it to the knowledge list\n",
        "for i in tokenizer.word_index:\n",
        "    knowledge.append(i)\n",
        "\n",
        "# Define a function 'tokenize' that takes a list of sentences 's' as input\n",
        "def tokenize(s):\n",
        "    # Initialize empty lists for tokenized sentences (tl) and individual vocabulary words (vc)\n",
        "    tl = []\n",
        "    vc = []\n",
        "\n",
        "    # Process each sentence in the input list\n",
        "    for j in s:\n",
        "        # Convert the sentence to lowercase\n",
        "        j = j.lower()\n",
        "\n",
        "        # Use regular expression to replace non-alphabetic characters with spaces\n",
        "        j = re.sub('[^a-zA-Z]', ' ', j)\n",
        "\n",
        "        # Split the processed sentence into words and add them to the vocabulary list 'vc'\n",
        "        t = j.split()\n",
        "        vc += t\n",
        "\n",
        "        # Append the tokenized sentence to the 'tl' list\n",
        "        tl.append(t)\n",
        "\n",
        "    # Return the tokenized sentences and the vocabulary list\n",
        "    return tl, vc\n"
      ]
    },
    {
      "cell_type": "code",
      "execution_count": null,
      "metadata": {
        "colab": {
          "background_save": true
        },
        "id": "aSS2_5BqHl3E"
      },
      "outputs": [],
      "source": [
        "# Tokenize the questions and pad the sequences\n",
        "tk_que = tokenizer.texts_to_sequences(que)\n",
        "q_max = max([len(i) for i in tk_que])\n",
        "q_padded = preprocessing.sequence.pad_sequences( tk_que, maxlen = q_max, padding = 'post')\n",
        "enc_data = array(q_padded)"
      ]
    },
    {
      "cell_type": "code",
      "execution_count": null,
      "metadata": {
        "colab": {
          "background_save": true
        },
        "id": "u_0YYoT7Ipru"
      },
      "outputs": [],
      "source": [
        "# Tokenize the answers and pad the sequences\n",
        "tk_ans = tokenizer.texts_to_sequences(ans)\n",
        "a_max = max([len(i) for i in tk_ans])\n",
        "a_padded = preprocessing.sequence.pad_sequences( tk_ans, maxlen = a_max, padding = 'post')\n",
        "dec_data = array(a_padded)"
      ]
    },
    {
      "cell_type": "code",
      "execution_count": null,
      "metadata": {
        "colab": {
          "background_save": true
        },
        "id": "LEvIiufNJGzp"
      },
      "outputs": [],
      "source": [
        "tk_ans = tokenizer.texts_to_sequences(ans)\n",
        "# Shift the answer sequences to the left to prepare input for the decoder\n",
        "\n",
        "for i in range(len(tk_ans)):\n",
        "  tk_ans[i] = tk_ans[i][1:]\n",
        "a_padded = preprocessing.sequence.pad_sequences( tk_ans, maxlen = a_max, padding = 'post')\n",
        "answ = utils.to_categorical(a_padded, VOCAB_SIZE)\n",
        "dec_out = array(answ)"
      ]
    },
    {
      "cell_type": "code",
      "execution_count": null,
      "metadata": {
        "colab": {
          "background_save": true
        },
        "id": "iBJPABAZKcyd"
      },
      "outputs": [],
      "source": [
        "# Define the encoder part of the model\n",
        "\n",
        "encoder_inputs = keras.layers.Input(shape=( q_max , ))\n",
        "encoder_embedding = keras.layers.Embedding( VOCAB_SIZE, 200 , mask_zero=True ) (encoder_inputs)\n",
        "encoder_outputs , state_h , state_c = keras.layers.LSTM( 200 , return_state=True )( encoder_embedding )\n",
        "encoder_states = [ state_h , state_c ]\n",
        "\n",
        "# Define the decoder part of the model\n",
        "decoder_inputs = keras.layers.Input(shape=( a_max ,  ))\n",
        "decoder_embedding = keras.layers.Embedding( VOCAB_SIZE, 200 , mask_zero=True) (decoder_inputs)\n",
        "decoder_lstm = keras.layers.LSTM( 200 , return_state=True , return_sequences=True )\n",
        "decoder_outputs , _ , _ = decoder_lstm ( decoder_embedding , initial_state=encoder_states )\n",
        "decoder_dense = keras.layers.Dense( VOCAB_SIZE , activation=keras.activations.softmax )\n",
        "output = decoder_dense ( decoder_outputs )\n",
        "\n",
        "#Define the keras model:w\n",
        "model = keras.models.Model([encoder_inputs, decoder_inputs], output )\n",
        "optimizer = keras.optimizers.RMSprop(learning_rate=0.01)\n",
        "model.compile(optimizer=optimizer, loss='categorical_crossentropy', metrics=['accuracy'])\n",
        "\n",
        "#Print the summary of the model:\n",
        "model.summary()"
      ]
    },
    {
      "cell_type": "code",
      "execution_count": null,
      "metadata": {
        "colab": {
          "background_save": true
        },
        "id": "53aKZiriM_Eg"
      },
      "outputs": [],
      "source": [
        "#\n",
        "model.fit([enc_data, dec_data], dec_out, batch_size = 30, epochs = 200)\n",
        "model.save('model.h5')"
      ]
    },
    {
      "cell_type": "code",
      "execution_count": null,
      "metadata": {
        "colab": {
          "background_save": true
        },
        "id": "_RAAY1qhOJer"
      },
      "outputs": [],
      "source": [
        "def lstm_io():\n",
        "  encoder_model = models.Model(encoder_inputs, encoder_states)\n",
        "\n",
        "  decoder_state_input_h = layers.Input(shape=( 200 ,))\n",
        "  decoder_state_input_c = layers.Input(shape=( 200 ,))\n",
        "\n",
        "  decoder_states_inputs = [decoder_state_input_h, decoder_state_input_c]\n",
        "\n",
        "  decoder_outputs, state_h, state_c = decoder_lstm(decoder_embedding , initial_state=decoder_states_inputs)\n",
        "\n",
        "  decoder_states = [state_h, state_c]\n",
        "\n",
        "  decoder_outputs = decoder_dense(decoder_outputs)\n",
        "\n",
        "  decoder_model = models.Model([decoder_inputs] + decoder_states_inputs, [decoder_outputs] + decoder_states)\n",
        "\n",
        "  return encoder_model , decoder_model"
      ]
    },
    {
      "cell_type": "code",
      "execution_count": null,
      "metadata": {
        "colab": {
          "background_save": true
        },
        "id": "AaIcVtsiQ_m_"
      },
      "outputs": [],
      "source": [
        "def str_to_tokens( sentence : str ):\n",
        "\n",
        "    words = sentence.lower().split()\n",
        "    tkl = list()\n",
        "\n",
        "    for i in words:\n",
        "        tkl.append(tokenizer.word_index[i])\n",
        "    return preprocessing.sequence.pad_sequences([tkl], maxlen=q_max, padding='post')"
      ]
    },
    {
      "cell_type": "code",
      "execution_count": null,
      "metadata": {
        "colab": {
          "background_save": true
        },
        "id": "YNbu0gJlRY2q"
      },
      "outputs": [],
      "source": [
        "e_model, d_model = lstm_io()"
      ]
    },
    {
      "cell_type": "code",
      "execution_count": null,
      "metadata": {
        "colab": {
          "background_save": true
        },
        "id": "zNFd98QmVWiR"
      },
      "outputs": [],
      "source": [
        "import numpy as np\n",
        "enc_model , dec_model = lstm_io()\n",
        "\n",
        "for i in range(10):\n",
        "    states_values = enc_model.predict(str_to_tokens(input('Enter question : ' ) ) )\n",
        "    empty_target_seq = np.zeros((1 , 1))\n",
        "    empty_target_seq[0, 0] = tokenizer.word_index['start']\n",
        "    stp = False\n",
        "    decoded_translation = ''\n",
        "    while not stp:\n",
        "        dec_outputs ,h ,c = dec_model.predict([ empty_target_seq ] + states_values )\n",
        "        sampled_word_index = argmax( dec_outputs[0, -1, :] )\n",
        "        sampled_word = None\n",
        "        for  w, i in tokenizer.word_index.items() :\n",
        "            if sampled_word_index == i:\n",
        "                decoded_translation += ' {}'.format(w)\n",
        "                sampled_word = w\n",
        "\n",
        "        if (sampled_word == 'end' or len(decoded_translation.split()) > a_max):\n",
        "            stp = True\n",
        "\n",
        "        empty_target_seq = np.zeros( ( 1 , 1 ) )\n",
        "        empty_target_seq[0, 0] = sampled_word_index\n",
        "        states_values = [h, c]\n",
        "\n",
        "    print( decoded_translation )"
      ]
    }
  ],
  "metadata": {
    "accelerator": "GPU",
    "colab": {
      "provenance": []
    },
    "kernelspec": {
      "display_name": "Python 3",
      "name": "python3"
    },
    "language_info": {
      "name": "python"
    }
  },
  "nbformat": 4,
  "nbformat_minor": 0
}